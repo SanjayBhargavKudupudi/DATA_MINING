{
  "nbformat": 4,
  "nbformat_minor": 0,
  "metadata": {
    "colab": {
      "provenance": [],
      "toc_visible": true,
      "mount_file_id": "12mB-wj_EJtokhCjw8k-rYP57xYq6xFYp",
      "authorship_tag": "ABX9TyNnglzSKz1qrJdHSkbtVXZq",
      "include_colab_link": true
    },
    "kernelspec": {
      "name": "python3",
      "display_name": "Python 3"
    },
    "language_info": {
      "name": "python"
    }
  },
  "cells": [
    {
      "cell_type": "markdown",
      "metadata": {
        "id": "view-in-github",
        "colab_type": "text"
      },
      "source": [
        "<a href=\"https://colab.research.google.com/github/SanjayBhargavKudupudi/DATA_MINING/blob/main/video/video.ipynb\" target=\"_parent\"><img src=\"https://colab.research.google.com/assets/colab-badge.svg\" alt=\"Open In Colab\"/></a>"
      ]
    },
    {
      "cell_type": "code",
      "execution_count": null,
      "metadata": {
        "colab": {
          "base_uri": "https://localhost:8080/"
        },
        "id": "StB92IbCU5Au",
        "outputId": "38a9039b-4e8d-4034-97fa-fec3d7032748"
      },
      "outputs": [
        {
          "output_type": "stream",
          "name": "stdout",
          "text": [
            "Mounted at /content/drive\n"
          ]
        }
      ],
      "source": [
        "from google.colab import drive\n",
        "drive.mount('/content/drive')"
      ]
    },
    {
      "cell_type": "markdown",
      "source": [],
      "metadata": {
        "id": "xcJtygfcO9Q6"
      }
    },
    {
      "cell_type": "code",
      "source": [
        "from moviepy.editor import VideoFileClip\n",
        "\n",
        "# Load the video file\n",
        "video_path = '/content/drive/MyDrive/DATA_MINING_DATASETS/videoplayback (online-video-cutter.com).mp4'\n",
        "video = VideoFileClip(video_path)\n",
        "\n",
        "# Extract basic metadata\n",
        "video_duration = video.duration\n",
        "video_fps = video.fps\n",
        "video_resolution = video.size\n",
        "\n",
        "video_duration, video_fps, video_resolution\n"
      ],
      "metadata": {
        "id": "UHusPOgBU6-0",
        "colab": {
          "base_uri": "https://localhost:8080/"
        },
        "outputId": "6f47580a-147a-4bbe-f239-7c10340967bc"
      },
      "execution_count": null,
      "outputs": [
        {
          "output_type": "execute_result",
          "data": {
            "text/plain": [
              "(76.6, 30.0, [640, 360])"
            ]
          },
          "metadata": {},
          "execution_count": 2
        }
      ]
    },
    {
      "cell_type": "code",
      "source": [
        "from PIL import Image\n",
        "import numpy as np\n",
        "import io\n",
        "\n",
        "# Function to extract and save a frame from the video at a specific timestamp\n",
        "def extract_frame(video, timestamp):\n",
        "    frame = video.get_frame(timestamp)\n",
        "    frame_image = Image.fromarray((frame * 255).astype(np.uint8))\n",
        "    return frame_image\n",
        "\n",
        "# Extracting frames from different parts of the video\n",
        "timestamps = [0, video_duration / 2, video_duration - 1]  # Start, middle, end\n",
        "extracted_frames = [extract_frame(video, t) for t in timestamps]\n",
        "\n",
        "# Display the first extracted frame as a sample\n",
        "extracted_frames[0].show()\n"
      ],
      "metadata": {
        "id": "dvC66VEzDbXV"
      },
      "execution_count": null,
      "outputs": []
    },
    {
      "cell_type": "code",
      "source": [
        "from PIL import ImageOps\n",
        "import numpy as np\n",
        "import cv2\n",
        "\n",
        "def calculate_brightness(image):\n",
        "    \"\"\"Calculate the average brightness of the image\"\"\"\n",
        "    greyscale_image = ImageOps.grayscale(image)\n",
        "    histogram = greyscale_image.histogram()\n",
        "    pixels = sum(histogram)\n",
        "    brightness = scale = len(histogram)\n",
        "\n",
        "    for index in range(0, scale):\n",
        "        ratio = histogram[index] / pixels\n",
        "        brightness += ratio * -scale + index\n",
        "\n",
        "    return brightness / scale\n",
        "\n",
        "def calculate_color_distribution(image):\n",
        "    \"\"\"Calculate the color distribution (dark vs light pixels)\"\"\"\n",
        "    greyscale_image = ImageOps.grayscale(image)\n",
        "    dark_pixels = np.sum(np.array(greyscale_image) < 128)\n",
        "    light_pixels = np.sum(np.array(greyscale_image) >= 128)\n",
        "    total_pixels = dark_pixels + light_pixels\n",
        "    return dark_pixels / total_pixels, light_pixels / total_pixels\n",
        "\n",
        "def calculate_edge_density(image):\n",
        "    \"\"\"Calculate the edge density using Canny edge detection\"\"\"\n",
        "    image_array = np.array(image)\n",
        "    edges = cv2.Canny(image_array,100,200)\n",
        "    edge_density = np.sum(edges > 0) / (edges.shape[0] * edges.shape[1])\n",
        "    return edge_density\n",
        "\n",
        "# Extracting features for each frame\n",
        "features = []\n",
        "for frame in extracted_frames:\n",
        "    brightness = calculate_brightness(frame)\n",
        "    dark_ratio, light_ratio = calculate_color_distribution(frame)\n",
        "    edge_density = calculate_edge_density(frame)\n",
        "    features.append({\n",
        "        \"brightness\": brightness,\n",
        "        \"dark_ratio\": dark_ratio,\n",
        "        \"light_ratio\": light_ratio,\n",
        "        \"edge_density\": edge_density\n",
        "    })\n",
        "\n",
        "features\n"
      ],
      "metadata": {
        "colab": {
          "base_uri": "https://localhost:8080/"
        },
        "id": "dsTWjzJlDeWe",
        "outputId": "d61eb62a-256d-4ee7-ad72-04b5f49fa5c9"
      },
      "execution_count": null,
      "outputs": [
        {
          "output_type": "execute_result",
          "data": {
            "text/plain": [
              "[{'brightness': 127.49999999999999,\n",
              "  'dark_ratio': 0.5478038194444445,\n",
              "  'light_ratio': 0.45219618055555555,\n",
              "  'edge_density': 0.10598958333333333},\n",
              " {'brightness': 127.50000000000004,\n",
              "  'dark_ratio': 0.7418402777777777,\n",
              "  'light_ratio': 0.2581597222222222,\n",
              "  'edge_density': 0.05950086805555556},\n",
              " {'brightness': 127.49999999999994,\n",
              "  'dark_ratio': 0.3942100694444444,\n",
              "  'light_ratio': 0.6057899305555555,\n",
              "  'edge_density': 0.10239583333333334}]"
            ]
          },
          "metadata": {},
          "execution_count": 4
        }
      ]
    },
    {
      "cell_type": "code",
      "source": [
        "import cv2\n",
        "\n",
        "cap = cv2.VideoCapture('video.mp4')\n",
        "\n",
        "ret, frame1 = cap.read()\n",
        "ret, frame2 = cap.read()\n",
        "\n",
        "while cap.isOpened():\n",
        "    diff = cv2.absdiff(frame1, frame2)\n",
        "    gray = cv2.cvtColor(diff, cv2.COLOR_BGR2GRAY)\n",
        "    blur = cv2.GaussianBlur(gray, (5,5), 0)\n",
        "    _, thresh = cv2.threshold(blur, 20, 255, cv2.THRESH_BINARY)\n",
        "    dilated = cv2.dilate(thresh, None, iterations=3)\n",
        "    contours, _ = cv2.findContours(dilated, cv2.RETR_TREE, cv2.CHAIN_APPROX_SIMPLE)\n",
        "\n",
        "    for contour in contours:\n",
        "        if cv2.contourArea(contour) < 900:\n",
        "            continue\n",
        "        # Motion detected, process accordingly\n",
        "\n",
        "    frame1 = frame2\n",
        "    ret, frame2 = cap.read()\n",
        "\n",
        "    if not ret:\n",
        "        break\n",
        "\n",
        "cap.release()\n",
        "cv2.destroyAllWindows()\n"
      ],
      "metadata": {
        "id": "yGVGyiI0DwQw"
      },
      "execution_count": null,
      "outputs": []
    },
    {
      "cell_type": "code",
      "source": [
        "!pip install opencv-python\n",
        "\n"
      ],
      "metadata": {
        "colab": {
          "base_uri": "https://localhost:8080/"
        },
        "id": "fAFVsiTQEE9p",
        "outputId": "e718c629-7cce-41f7-d540-12fd880c8d21"
      },
      "execution_count": null,
      "outputs": [
        {
          "output_type": "stream",
          "name": "stdout",
          "text": [
            "Requirement already satisfied: opencv-python in /usr/local/lib/python3.10/dist-packages (4.8.0.76)\n",
            "Requirement already satisfied: numpy>=1.21.2 in /usr/local/lib/python3.10/dist-packages (from opencv-python) (1.23.5)\n"
          ]
        }
      ]
    },
    {
      "cell_type": "code",
      "source": [
        "from google.colab.patches import cv2_imshow\n",
        "import cv2\n",
        "\n",
        "# Initialize video source (the video file)\n",
        "cap = cv2.VideoCapture('/content/drive/MyDrive/DATA_MINING_DATASETS/videoplayback (online-video-cutter.com).mp4')\n",
        "\n",
        "# Read two frames from the video, initially\n",
        "ret, frame1 = cap.read()\n",
        "ret, frame2 = cap.read()\n",
        "\n",
        "while cap.isOpened():\n",
        "    # ... (rest of the code remains the same)\n",
        "\n",
        "    # Display the resulting frame\n",
        "    cv2_imshow(frame1)\n",
        "\n",
        "    # Read the next frame\n",
        "    frame1 = frame2\n",
        "    ret, frame2 = cap.read()\n",
        "\n",
        "    # Breaking the loop if 'q' is pressed - This won't work in Colab, so we use a fixed number of frames instead\n",
        "    if not ret:\n",
        "        break\n",
        "\n",
        "# Release the video capture object\n",
        "cap.release()\n"
      ],
      "metadata": {
        "id": "0xiVK5j9Eg5o"
      },
      "execution_count": null,
      "outputs": []
    },
    {
      "cell_type": "code",
      "source": [
        "import cv2\n",
        "import os\n",
        "\n",
        "# Create a directory to save the extracted frames\n",
        "frames_dir = \"extracted_frames\"\n",
        "os.makedirs(frames_dir, exist_ok=True)\n",
        "\n",
        "# Load the video\n",
        "video_path = '/content/drive/MyDrive/DATA_MINING_DATASETS/videoplayback (online-video-cutter.com).mp4'\n",
        "cap = cv2.VideoCapture(video_path)\n",
        "\n",
        "# Frame extraction settings\n",
        "interval = 30  # Extract a frame every 30 seconds\n",
        "frame_rate = cap.get(cv2.CAP_PROP_FPS)\n",
        "count = 0\n",
        "\n",
        "while cap.isOpened():\n",
        "    ret, frame = cap.read()\n",
        "\n",
        "    if not ret:\n",
        "        break\n",
        "\n",
        "    if count % (frame_rate * interval) == 0:\n",
        "        frame_name = os.path.join(frames_dir, f\"frame_{count // (frame_rate * interval)}.jpg\")\n",
        "        cv2.imwrite(frame_name, frame)\n",
        "\n",
        "    count += 1\n",
        "\n",
        "cap.release()\n"
      ],
      "metadata": {
        "id": "DMBJ1IyzEs4M"
      },
      "execution_count": null,
      "outputs": []
    },
    {
      "cell_type": "code",
      "source": [],
      "metadata": {
        "id": "Rf0k7ScbGwsH"
      },
      "execution_count": null,
      "outputs": []
    }
  ]
}